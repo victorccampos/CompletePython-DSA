{
 "cells": [
  {
   "cell_type": "markdown",
   "metadata": {},
   "source": [
    "- Questão 1"
   ]
  },
  {
   "cell_type": "code",
   "execution_count": 2,
   "metadata": {},
   "outputs": [
    {
     "name": "stdout",
     "output_type": "stream",
     "text": [
      "fruit_list1=['Apple', 'Berry', 'Cherry', 'Papaya'] localizada em 2036187916800\n",
      "fruit_list2=['Apple', 'Berry', 'Cherry', 'Papaya'] localizada em 2036187916800\n",
      "fruit_list3=['Apple', 'Berry', 'Cherry', 'Papaya'] localizada em 2036187894336\n",
      "22\n"
     ]
    }
   ],
   "source": [
    "# access memory location with id()\n",
    "fruit_list1 = ['Apple', 'Berry', 'Cherry', 'Papaya']\n",
    "fruit_list2 = fruit_list1 # compartilham o mesmo local de memoria \n",
    "fruit_list3 = fruit_list1[:] # atribui um slice de fruit_list1 com todos elementos\n",
    "\n",
    "sum = 0\n",
    "\n",
    "print(f'{fruit_list1=} localizada em {id(fruit_list1)}')\n",
    "print(f'{fruit_list2=} localizada em {id(fruit_list2)}')\n",
    "print(f'{fruit_list3=} localizada em {id(fruit_list3)}')\n",
    "\n",
    "fruit_list2[0] = 'Guava' # muda fruit_list1 e fruit_list2\n",
    "fruit_list3[1] = 'Kiwi' # muda apenas o local de memoria de fruit_list3\n",
    "\n",
    "for ls in (fruit_list1, fruit_list2, fruit_list3):\n",
    "    # print(f'{ls=} com id = {id(ls)}\\n')\n",
    "    if ls[0] == 'Guava':\n",
    "        sum+= 1\n",
    "    if ls[1] == 'Kiwi':\n",
    "        sum+=20\n",
    "\n",
    "print(sum)"
   ]
  },
  {
   "cell_type": "markdown",
   "metadata": {},
   "source": [
    "- Questão 2"
   ]
  },
  {
   "cell_type": "code",
   "execution_count": 3,
   "metadata": {},
   "outputs": [
    {
     "name": "stdout",
     "output_type": "stream",
     "text": [
      "4\n"
     ]
    }
   ],
   "source": [
    "data = [[ [1, 2], [3, 4] ],\n",
    "        [ [5, 6], [7, 8] ]\n",
    "         ]\n",
    "\n",
    "def fun(m):\n",
    "    v = m[0][0]\n",
    " \n",
    "    for row in m:\n",
    "        for element in row:\n",
    "            if v < element: v = element\n",
    " \n",
    "    return v\n",
    "\n",
    "print(fun(data[0]))"
   ]
  },
  {
   "cell_type": "markdown",
   "metadata": {},
   "source": [
    "- Questão 3  \n",
    "\n",
    "Qual output de:\n",
    "\n",
    "```python\n",
    "a=[1,2,3,4,5,6,7,8,9]\n",
    "a[::2]=10,20,30,40,50,60\n",
    "print(a)\n",
    "```"
   ]
  },
  {
   "cell_type": "code",
   "execution_count": 4,
   "metadata": {},
   "outputs": [],
   "source": [
    "# a[::2] --> [1, 3, 5, 7, 9] size 5 not match [10, 20, 30, 40, 50, 60] size 6"
   ]
  },
  {
   "cell_type": "markdown",
   "metadata": {},
   "source": [
    "- Questão 4  \n",
    "What will be the output of the following code block?\n",
    "\n",
    "```python\n",
    "a=[1,2,3,4,5]\n",
    "print(a[3:0:-1])\n",
    "```\n",
    "\n",
    "__Resposta__:  \n",
    "\n",
    "The given code block performs a slice operation on the list a using the syntax `a[start:stop:step]`. In this case, start is 3, stop is 0, and step is -1. This slice operation `creates a new list` containing elements from the original list, starting at index 3, going until index 0 (not inclusive), and selecting every element with a step of -1 (moving in reverse).\n"
   ]
  },
  {
   "cell_type": "code",
   "execution_count": 5,
   "metadata": {},
   "outputs": [
    {
     "data": {
      "text/plain": [
       "[4, 3, 2]"
      ]
     },
     "execution_count": 5,
     "metadata": {},
     "output_type": "execute_result"
    }
   ],
   "source": [
    "a=[1,2,3,4,5]\n",
    "a[3:0:-1]"
   ]
  },
  {
   "cell_type": "markdown",
   "metadata": {},
   "source": [
    "- Questão 6  \n",
    "\n",
    "```python\n",
    "arr = [1, 2, 3, 4, 5, 6]\n",
    "for i in range(1, 6):\n",
    "    arr[i - 1] = arr[i]\n",
    "for i in range(0, 6): \n",
    "    print(arr[i], end = \" \")\n",
    "```\n",
    "\n",
    "Itere pela lista usando um loop for com intervalo de 1 a 5 (6 não incluído). Para cada i, o valor de `arr[i]` é atribuído a `arr[i - 1]`.  \n",
    "> Esta operação efetivamente desloca cada elemento para a esquerda em uma posição, exceto o primeiro elemento"
   ]
  },
  {
   "cell_type": "markdown",
   "metadata": {},
   "source": [
    "- Questão 8:\n",
    "```python\n",
    "arr = [[1, 2, 3, 4],\n",
    "       [4, 5, 6, 7],\n",
    "       [8, 9, 10, 11],\n",
    "       [12, 13, 14, 15]]\n",
    "for i in range(0, 4):\n",
    "    print(arr[i].pop())\n",
    "```\n",
    "\n",
    "Explicação geral\n",
    "In the given code block, you have a 2D list called arr. The code iterates through the rows of the 2D list using the for loop with a range from 0 to 3 (4 not included). In each iteration, the pop() method is called on the current row (i.e., arr[i]), which removes and returns the last element of the row.\n",
    "\n",
    "Here's the step-by-step execution of the code:\n",
    "\n",
    "i = 0: The last element of the first row (arr[0]) is 4. The pop() method removes and returns 4, and the first row becomes [1, 2, 3]. The print() function outputs 4.\n",
    "\n",
    "i = 1: The last element of the second row (arr[1]) is 7. The pop() method removes and returns 7, and the second row becomes [4, 5, 6]. The print() function outputs 7.\n",
    "\n",
    "i = 2: The last element of the third row (arr[2]) is 11. The pop() method removes and returns 11, and the third row becomes [8, 9, 10]. The print() function outputs 11.\n",
    "\n",
    "i = 3: The last element of the fourth row (arr[3]) is 15. The pop() method removes and returns 15, and the fourth row becomes [12, 13, 14]. The print() function outputs 15.\n",
    "\n",
    "So, the output of the code block will be: 4 7 11 15\n",
    "\n"
   ]
  }
 ],
 "metadata": {
  "kernelspec": {
   "display_name": "base",
   "language": "python",
   "name": "python3"
  },
  "language_info": {
   "codemirror_mode": {
    "name": "ipython",
    "version": 3
   },
   "file_extension": ".py",
   "mimetype": "text/x-python",
   "name": "python",
   "nbconvert_exporter": "python",
   "pygments_lexer": "ipython3",
   "version": "3.12.3"
  }
 },
 "nbformat": 4,
 "nbformat_minor": 2
}
